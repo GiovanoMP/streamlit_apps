{
 "cells": [
  {
   "cell_type": "markdown",
   "metadata": {
    "cell_id": "51c147ced52042d6b2834a08cbde13bb",
    "deepnote_cell_type": "text-cell-p",
    "formattedRanges": []
   },
   "source": [
    "**Giovano Panatta**"
   ]
  },
  {
   "cell_type": "markdown",
   "metadata": {
    "cell_id": "fc6d73569562408593ae6951290b3af9",
    "deepnote_cell_type": "text-cell-p",
    "formattedRanges": [
     {
      "fromCodePoint": 0,
      "marks": {
       "bold": true
      },
      "toCodePoint": 25,
      "type": "marks"
     }
    ]
   },
   "source": [
    "# Visualização de Dados com Streamlit\n"
   ]
  },
  {
   "cell_type": "code",
   "execution_count": null,
   "metadata": {
    "cell_id": "85b9bcaa133646d698d0166ca047e7fe",
    "deepnote_cell_type": "code",
    "deepnote_to_be_reexecuted": false,
    "execution_millis": 5962,
    "execution_start": 1694912394443,
    "source_hash": null
   },
   "outputs": [
    {
     "name": "stdout",
     "output_type": "stream",
     "text": [
      "Requirement already satisfied: streamlit in /root/venv/lib/python3.9/site-packages (1.26.0)\n",
      "Requirement already satisfied: pyarrow>=6.0 in /shared-libs/python3.9/py/lib/python3.9/site-packages (from streamlit) (9.0.0)\n",
      "Requirement already satisfied: pympler<2,>=0.9 in /root/venv/lib/python3.9/site-packages (from streamlit) (1.0.1)\n",
      "Requirement already satisfied: packaging<24,>=16.8 in /shared-libs/python3.9/py-core/lib/python3.9/site-packages (from streamlit) (21.3)\n",
      "Requirement already satisfied: click<9,>=7.0 in /shared-libs/python3.9/py/lib/python3.9/site-packages (from streamlit) (8.1.3)\n",
      "Requirement already satisfied: tornado<7,>=6.0.3 in /shared-libs/python3.9/py-core/lib/python3.9/site-packages (from streamlit) (6.2)\n",
      "Requirement already satisfied: gitpython!=3.1.19,<4,>=3.0.7 in /root/venv/lib/python3.9/site-packages (from streamlit) (3.1.36)\n",
      "Requirement already satisfied: protobuf<5,>=3.20 in /root/venv/lib/python3.9/site-packages (from streamlit) (4.24.3)\n",
      "Requirement already satisfied: toml<2,>=0.10.1 in /root/venv/lib/python3.9/site-packages (from streamlit) (0.10.2)\n",
      "Requirement already satisfied: watchdog>=2.1.5 in /root/venv/lib/python3.9/site-packages (from streamlit) (3.0.0)\n",
      "Requirement already satisfied: rich<14,>=10.14.0 in /root/venv/lib/python3.9/site-packages (from streamlit) (13.5.2)\n",
      "Requirement already satisfied: blinker<2,>=1.0.0 in /root/venv/lib/python3.9/site-packages (from streamlit) (1.6.2)\n",
      "Requirement already satisfied: tzlocal<5,>=1.1 in /shared-libs/python3.9/py/lib/python3.9/site-packages (from streamlit) (4.2)\n",
      "Requirement already satisfied: validators<1,>=0.2 in /root/venv/lib/python3.9/site-packages (from streamlit) (0.22.0)\n",
      "Requirement already satisfied: altair<6,>=4.0 in /shared-libs/python3.9/py/lib/python3.9/site-packages (from streamlit) (4.2.2)\n",
      "Requirement already satisfied: importlib-metadata<7,>=1.4 in /shared-libs/python3.9/py/lib/python3.9/site-packages (from streamlit) (5.0.0)\n",
      "Requirement already satisfied: typing-extensions<5,>=4.1.0 in /shared-libs/python3.9/py/lib/python3.9/site-packages (from streamlit) (4.4.0)\n",
      "Requirement already satisfied: numpy<2,>=1.19.3 in /shared-libs/python3.9/py/lib/python3.9/site-packages (from streamlit) (1.23.4)\n",
      "Requirement already satisfied: tenacity<9,>=8.1.0 in /shared-libs/python3.9/py/lib/python3.9/site-packages (from streamlit) (8.1.0)\n",
      "Requirement already satisfied: requests<3,>=2.18 in /shared-libs/python3.9/py/lib/python3.9/site-packages (from streamlit) (2.28.1)\n",
      "Requirement already satisfied: python-dateutil<3,>=2.7.3 in /shared-libs/python3.9/py-core/lib/python3.9/site-packages (from streamlit) (2.8.2)\n",
      "Requirement already satisfied: cachetools<6,>=4.0 in /shared-libs/python3.9/py/lib/python3.9/site-packages (from streamlit) (5.2.0)\n",
      "Requirement already satisfied: pillow<10,>=7.1.0 in /shared-libs/python3.9/py/lib/python3.9/site-packages (from streamlit) (9.2.0)\n",
      "Requirement already satisfied: pydeck<1,>=0.8 in /root/venv/lib/python3.9/site-packages (from streamlit) (0.8.0)\n",
      "Requirement already satisfied: pandas<3,>=1.3.0 in /root/venv/lib/python3.9/site-packages (from streamlit) (2.1.0)\n",
      "Requirement already satisfied: jinja2 in /shared-libs/python3.9/py-core/lib/python3.9/site-packages (from altair<6,>=4.0->streamlit) (3.1.2)\n",
      "Requirement already satisfied: entrypoints in /shared-libs/python3.9/py-core/lib/python3.9/site-packages (from altair<6,>=4.0->streamlit) (0.4)\n",
      "Requirement already satisfied: toolz in /shared-libs/python3.9/py/lib/python3.9/site-packages (from altair<6,>=4.0->streamlit) (0.12.0)\n",
      "Requirement already satisfied: jsonschema>=3.0 in /shared-libs/python3.9/py-core/lib/python3.9/site-packages (from altair<6,>=4.0->streamlit) (3.2.0)\n",
      "Requirement already satisfied: gitdb<5,>=4.0.1 in /root/venv/lib/python3.9/site-packages (from gitpython!=3.1.19,<4,>=3.0.7->streamlit) (4.0.10)\n",
      "Requirement already satisfied: zipp>=0.5 in /shared-libs/python3.9/py/lib/python3.9/site-packages (from importlib-metadata<7,>=1.4->streamlit) (3.9.0)\n",
      "Requirement already satisfied: pyparsing!=3.0.5,>=2.0.2 in /shared-libs/python3.9/py-core/lib/python3.9/site-packages (from packaging<24,>=16.8->streamlit) (3.0.9)\n",
      "Requirement already satisfied: pytz>=2020.1 in /shared-libs/python3.9/py/lib/python3.9/site-packages (from pandas<3,>=1.3.0->streamlit) (2022.5)\n",
      "Requirement already satisfied: tzdata>=2022.1 in /shared-libs/python3.9/py/lib/python3.9/site-packages (from pandas<3,>=1.3.0->streamlit) (2022.5)\n",
      "Requirement already satisfied: six>=1.5 in /shared-libs/python3.9/py-core/lib/python3.9/site-packages (from python-dateutil<3,>=2.7.3->streamlit) (1.16.0)\n",
      "Requirement already satisfied: charset-normalizer<3,>=2 in /shared-libs/python3.9/py-core/lib/python3.9/site-packages (from requests<3,>=2.18->streamlit) (2.1.1)\n",
      "Requirement already satisfied: urllib3<1.27,>=1.21.1 in /shared-libs/python3.9/py/lib/python3.9/site-packages (from requests<3,>=2.18->streamlit) (1.26.12)\n",
      "Requirement already satisfied: idna<4,>=2.5 in /shared-libs/python3.9/py-core/lib/python3.9/site-packages (from requests<3,>=2.18->streamlit) (3.4)\n",
      "Requirement already satisfied: certifi>=2017.4.17 in /shared-libs/python3.9/py/lib/python3.9/site-packages (from requests<3,>=2.18->streamlit) (2022.9.24)\n",
      "Requirement already satisfied: markdown-it-py>=2.2.0 in /root/venv/lib/python3.9/site-packages (from rich<14,>=10.14.0->streamlit) (3.0.0)\n",
      "Requirement already satisfied: pygments<3.0.0,>=2.13.0 in /shared-libs/python3.9/py-core/lib/python3.9/site-packages (from rich<14,>=10.14.0->streamlit) (2.13.0)\n",
      "Requirement already satisfied: pytz-deprecation-shim in /shared-libs/python3.9/py/lib/python3.9/site-packages (from tzlocal<5,>=1.1->streamlit) (0.1.0.post0)\n",
      "Requirement already satisfied: smmap<6,>=3.0.1 in /root/venv/lib/python3.9/site-packages (from gitdb<5,>=4.0.1->gitpython!=3.1.19,<4,>=3.0.7->streamlit) (5.0.0)\n",
      "Requirement already satisfied: MarkupSafe>=2.0 in /shared-libs/python3.9/py-core/lib/python3.9/site-packages (from jinja2->altair<6,>=4.0->streamlit) (2.0.0)\n",
      "Requirement already satisfied: setuptools in /root/venv/lib/python3.9/site-packages (from jsonschema>=3.0->altair<6,>=4.0->streamlit) (58.1.0)\n",
      "Requirement already satisfied: pyrsistent>=0.14.0 in /shared-libs/python3.9/py-core/lib/python3.9/site-packages (from jsonschema>=3.0->altair<6,>=4.0->streamlit) (0.18.1)\n",
      "Requirement already satisfied: attrs>=17.4.0 in /shared-libs/python3.9/py-core/lib/python3.9/site-packages (from jsonschema>=3.0->altair<6,>=4.0->streamlit) (22.1.0)\n",
      "Requirement already satisfied: mdurl~=0.1 in /root/venv/lib/python3.9/site-packages (from markdown-it-py>=2.2.0->rich<14,>=10.14.0->streamlit) (0.1.2)\n",
      "\n",
      "\u001b[1m[\u001b[0m\u001b[34;49mnotice\u001b[0m\u001b[1;39;49m]\u001b[0m\u001b[39;49m A new release of pip is available: \u001b[0m\u001b[31;49m23.0.1\u001b[0m\u001b[39;49m -> \u001b[0m\u001b[32;49m23.2.1\u001b[0m\n",
      "\u001b[1m[\u001b[0m\u001b[34;49mnotice\u001b[0m\u001b[1;39;49m]\u001b[0m\u001b[39;49m To update, run: \u001b[0m\u001b[32;49mpip install --upgrade pip\u001b[0m\n"
     ]
    }
   ],
   "source": [
    "#Instalano a bib streamlit\n",
    "!pip install streamlit -U"
   ]
  },
  {
   "cell_type": "markdown",
   "metadata": {
    "cell_id": "b081f096bed0421da30dd72b3cabb36c",
    "deepnote_cell_type": "text-cell-p",
    "formattedRanges": []
   },
   "source": [
    "**Utilizaremos a magic line %%writefile helloworld.py para criar um arquivo .py no diretório do Deepnote. Em seguida, importamos a biblioteca streamlit como st e utilizamos o comando st.title(\" \")**"
   ]
  },
  {
   "cell_type": "markdown",
   "metadata": {
    "cell_id": "cf44b3063b554a01b0a690ae7fb8b0e5",
    "deepnote_cell_type": "text-cell-p",
    "formattedRanges": []
   },
   "source": []
  },
  {
   "cell_type": "code",
   "execution_count": null,
   "metadata": {
    "cell_id": "82af238aee26445daae95a2cca094b34",
    "deepnote_cell_type": "code",
    "deepnote_to_be_reexecuted": false,
    "execution_millis": 20,
    "execution_start": 1694912408081,
    "source_hash": null
   },
   "outputs": [
    {
     "name": "stdout",
     "output_type": "stream",
     "text": [
      "Overwriting helloworld.py\n"
     ]
    }
   ],
   "source": [
    "%%writefile helloworld.py\n",
    "import streamlit as st\n",
    "st.title(\"Ola Mundo!\")"
   ]
  },
  {
   "cell_type": "code",
   "execution_count": null,
   "metadata": {
    "cell_id": "475234faa7164501b1dd8a2eed84b6f0",
    "deepnote_cell_type": "code",
    "deepnote_to_be_reexecuted": false,
    "execution_millis": 140723,
    "execution_start": 1694912414599,
    "source_hash": null
   },
   "outputs": [
    {
     "name": "stdout",
     "output_type": "stream",
     "text": [
      "\n",
      "Collecting usage statistics. To deactivate, set browser.gatherUsageStats to False.\n",
      "\u001b[0m\n",
      "\u001b[0m\n",
      "\u001b[34m\u001b[1m  You can now view your Streamlit app in your browser.\u001b[0m\n",
      "\u001b[0m\n",
      "\u001b[34m  URL: \u001b[0m\u001b[1mhttp://0.0.0.0:8080\u001b[0m\n",
      "\u001b[0m\n",
      "^C\n",
      "\u001b[34m  Stopping...\u001b[0m\n"
     ]
    }
   ],
   "source": [
    "#Para abrir o arquivo em uma página web e no ambiente deepnote o seguinte comando deve ser utilizado:\n",
    "!streamlit run helloworld.py --server.port=8080 --browser.serverAddress='0.0.0.0'\n",
    "#Obs: Em configurações de ambiente a função \"Allow incoming connections\" deve estar ativada"
   ]
  },
  {
   "cell_type": "markdown",
   "metadata": {
    "cell_id": "a1d27966469a4344b1a8281b77f8ed93",
    "deepnote_cell_type": "text-cell-p",
    "formattedRanges": [
     {
      "fromCodePoint": 0,
      "marks": {
       "bold": true
      },
      "toCodePoint": 82,
      "type": "marks"
     }
    ]
   },
   "source": [
    "**Agora, criaremos um aplicativo Streamlit que exibirá uma mensagem personalizada e uma imagem.**"
   ]
  },
  {
   "cell_type": "code",
   "execution_count": null,
   "metadata": {
    "cell_id": "2bf6e631085043b2a80d77dbd2912e06",
    "deepnote_cell_type": "code",
    "deepnote_to_be_reexecuted": false,
    "execution_millis": 26,
    "execution_start": 1694912564695,
    "source_hash": null
   },
   "outputs": [
    {
     "name": "stdout",
     "output_type": "stream",
     "text": [
      "Overwriting image.py\n"
     ]
    }
   ],
   "source": [
    "%%writefile image.py\n",
    "import streamlit as st\n",
    "\n",
    "st.title(\"Aplicativo Streamlit\")\n",
    "st.write(\"Ola! aqui você verá um cheat sheet com os principais comandos do Streamlit\")\n",
    "st.image(\"https://global.discourse-cdn.com/business7/uploads/streamlit/original/2X/9/9ac521d7e4dcc603ada6b4a4c8605f2ef9f2ea78.png\",\n",
    "    caption=\"Cheat Sheet do Streamlit\", use_column_width=True)\n"
   ]
  },
  {
   "cell_type": "code",
   "execution_count": null,
   "metadata": {
    "cell_id": "201bd8dbda384ebabb030b888a15b3c0",
    "deepnote_cell_type": "code",
    "deepnote_to_be_reexecuted": false,
    "execution_millis": 56565,
    "execution_start": 1694912569878,
    "source_hash": null
   },
   "outputs": [
    {
     "name": "stdout",
     "output_type": "stream",
     "text": [
      "\n",
      "Collecting usage statistics. To deactivate, set browser.gatherUsageStats to False.\n",
      "\u001b[0m\n",
      "\u001b[0m\n",
      "\u001b[34m\u001b[1m  You can now view your Streamlit app in your browser.\u001b[0m\n",
      "\u001b[0m\n",
      "\u001b[34m  Network URL: \u001b[0m\u001b[1mhttp://172.3.37.16:8080\u001b[0m\n",
      "\u001b[34m  External URL: \u001b[0m\u001b[1mhttp://54.162.69.67:8080\u001b[0m\n",
      "\u001b[0m\n",
      "^C\n",
      "\u001b[34m  Stopping...\u001b[0m\n"
     ]
    }
   ],
   "source": [
    "!streamlit run image.py --server.port=8080"
   ]
  },
  {
   "cell_type": "markdown",
   "metadata": {
    "cell_id": "496f9fc19bb14069835f7098b234c469",
    "deepnote_cell_type": "text-cell-p",
    "formattedRanges": []
   },
   "source": [
    "**Obs:** \n",
    "Em ambientes com memória temporária, pode ser necessário, antes de cada nova sessão, instalar o Streamlit com o comando pip install streamlit, o argumento -U pode ser utilizado para baixar a versão mais recente."
   ]
  },
  {
   "cell_type": "markdown",
   "metadata": {
    "cell_id": "f30a2289638e4ab9a7604098450c37cf",
    "deepnote_cell_type": "text-cell-p",
    "formattedRanges": [
     {
      "fromCodePoint": 0,
      "marks": {
       "bold": true
      },
      "toCodePoint": 126,
      "type": "marks"
     }
    ]
   },
   "source": [
    "**Agora nós desenvolveremos um aplicativo Streamlit que exibirá um gráfico de pizza simples usando a biblioteca de visualização ploty** "
   ]
  },
  {
   "cell_type": "code",
   "execution_count": null,
   "metadata": {
    "cell_id": "d0b3a71ee5d6466eb9a179acfd142c77",
    "deepnote_cell_type": "code",
    "deepnote_to_be_reexecuted": false,
    "execution_millis": 21,
    "execution_start": 1694898887196,
    "source_hash": null
   },
   "outputs": [
    {
     "name": "stdout",
     "output_type": "stream",
     "text": [
      "Overwriting sorvetes.py\n"
     ]
    }
   ],
   "source": [
    "%%writefile sorvetes.py\n",
    "\n",
    "import streamlit as st\n",
    "import plotly.express as px\n",
    "\n",
    "st.title(\"Preferência de Sabores de Sorvete\")\n",
    "\n",
    "#Dados\n",
    "labels = [\"Chocolate\", \"Baunilha\", \"Morango\"]\n",
    "values = [st.slider('Chocolate (%)', 0, 100, 45),\n",
    "          st.slider('Baunilha (%)', 0, 100, 30),\n",
    "          st.slider('Morango (%)', 0, 100, 25)]\n",
    "\n",
    "#Vamos utilizar o plotly\n",
    "\n",
    "fig = px.pie(values=values, names=labels, title=\"Preferência de Sabores de Sorvete\")\n",
    "\n",
    "#Exibindo no streamlit\n",
    "st.plotly_chart(fig)\n"
   ]
  },
  {
   "cell_type": "code",
   "execution_count": null,
   "metadata": {
    "cell_id": "f95c27ea74434cc78261068e12fa79ef",
    "deepnote_cell_type": "code",
    "deepnote_to_be_reexecuted": false,
    "execution_millis": 1614,
    "execution_start": 1694898887208,
    "source_hash": null
   },
   "outputs": [
    {
     "name": "stdout",
     "output_type": "stream",
     "text": [
      "/bin/bash: streamlit: command not found\n"
     ]
    }
   ],
   "source": [
    "#código para exibição web\n",
    "!streamlit run sorvetes.py --server.port=8080\n"
   ]
  },
  {
   "cell_type": "markdown",
   "metadata": {
    "cell_id": "980edc02d9444dae926a6355371ad8bf",
    "deepnote_cell_type": "text-cell-p",
    "formattedRanges": []
   },
   "source": [
    "O método st.checkbox() é usado para criar um botão de alternância (checkbox). Este botão permite aos usuários alternar uma opção entre ligado (marcado) e desligado (não marcado).\n",
    "Usando a função st.checkbox('Label') para criar um checkbox: A função retorna True se o checkbox estiver marcado e False se estiver desmarcado."
   ]
  },
  {
   "cell_type": "markdown",
   "metadata": {
    "cell_id": "532c888e0e86427d9558363bec91dd17",
    "deepnote_cell_type": "text-cell-p",
    "formattedRanges": [
     {
      "fromCodePoint": 0,
      "marks": {
       "bold": true
      },
      "toCodePoint": 8,
      "type": "marks"
     }
    ]
   },
   "source": [
    "Exemplo: Um aplicativo Streamlit que mostra detalhes de um produto em uma loja online."
   ]
  },
  {
   "cell_type": "markdown",
   "metadata": {
    "cell_id": "abf641fcff9b4de09777ba304142b3de",
    "deepnote_cell_type": "text-cell-p",
    "formattedRanges": [
     {
      "fromCodePoint": 0,
      "marks": {
       "bold": true
      },
      "toCodePoint": 151,
      "type": "marks"
     }
    ]
   },
   "source": [
    "**Criaremos um aplicativo Streamlit que permite ao usuário escolher uma cor em um menu suspenso e, em seguida, exiba um retângulo colorido usando essa cor.**"
   ]
  },
  {
   "cell_type": "code",
   "execution_count": null,
   "metadata": {
    "cell_id": "2250336439c24a6584c21c36b3179bc3",
    "deepnote_cell_type": "code",
    "deepnote_to_be_reexecuted": false,
    "execution_millis": 697,
    "execution_start": 1694898888097,
    "source_hash": null
   },
   "outputs": [
    {
     "name": "stdout",
     "output_type": "stream",
     "text": [
      "/bin/bash: streamlit: command not found\n"
     ]
    }
   ],
   "source": [
    "#Código web\n",
    "!streamlit run cores.py --server.port=8080"
   ]
  },
  {
   "cell_type": "markdown",
   "metadata": {
    "cell_id": "d51da2f7e53f4090894b4f89b549bbca",
    "deepnote_cell_type": "text-cell-p",
    "formattedRanges": []
   },
   "source": [
    "Para criar uma caixa de entrada de texto para que o usuário insira um número inteiro, pode-se usar a função text_input do Streamlit e, em seguida, converter a entrada em um número inteiro."
   ]
  },
  {
   "cell_type": "markdown",
   "metadata": {
    "cell_id": "c3f69c28f47c4ae3b90d5a3c8a74dcf8",
    "deepnote_cell_type": "text-cell-p",
    "formattedRanges": []
   },
   "source": [
    "Um exemplo seria: user_input = st.text_input(\"Digite um número inteiro:\")"
   ]
  },
  {
   "cell_type": "markdown",
   "metadata": {
    "cell_id": "55efe53a63934b4aa60e0208f23fee6f",
    "deepnote_cell_type": "text-cell-p",
    "formattedRanges": [
     {
      "fromCodePoint": 0,
      "marks": {
       "bold": true
      },
      "toCodePoint": 136,
      "type": "marks"
     }
    ]
   },
   "source": [
    "**Agora, criaremos um aplicativo Streamlit que solicite ao usuário um número e, em seguida, exiba o dobro desse número após um botão ser clicado.**"
   ]
  },
  {
   "cell_type": "code",
   "execution_count": null,
   "metadata": {
    "cell_id": "1c730253fab7456dbdf6b53cfabbe24a",
    "deepnote_cell_type": "code",
    "deepnote_to_be_reexecuted": false,
    "execution_millis": 133,
    "execution_start": 1694898888769,
    "source_hash": null
   },
   "outputs": [
    {
     "name": "stdout",
     "output_type": "stream",
     "text": [
      "Overwriting dobro.py\n"
     ]
    }
   ],
   "source": [
    "%%writefile dobro.py\n",
    "import streamlit as st\n",
    "\n",
    "# Solicita ao usuário um número usando uma caixa de entrada específica para números\n",
    "user_num = st.number_input(\"Digite um número:\")\n",
    "\n",
    "# Exibe o dobro do número inserido que foi armazenado no objeto user_num\n",
    "st.write(f\"O dobro de {user_num} é {2 * user_num}\")"
   ]
  },
  {
   "cell_type": "code",
   "execution_count": null,
   "metadata": {
    "cell_id": "827df538e5f24593851919793b931e76",
    "deepnote_cell_type": "code",
    "deepnote_to_be_reexecuted": false,
    "execution_millis": 803,
    "execution_start": 1694898888769,
    "source_hash": null
   },
   "outputs": [
    {
     "name": "stdout",
     "output_type": "stream",
     "text": [
      "/bin/bash: streamlit: command not found\n"
     ]
    }
   ],
   "source": [
    "!streamlit run dobro.py --server.port=8080"
   ]
  },
  {
   "cell_type": "markdown",
   "metadata": {
    "cell_id": "40eceed4749448a99b9353b81471ac15",
    "deepnote_cell_type": "text-cell-p",
    "formattedRanges": [
     {
      "fromCodePoint": 0,
      "marks": {
       "bold": true
      },
      "toCodePoint": 149,
      "type": "marks"
     }
    ]
   },
   "source": [
    "**Desenvolveremos um aplicativo Streamlit que permita ao usuário fazer o upload de um arquivo CSV e, em seguida, exiba as primeiras 5 linhas dos dados.**"
   ]
  },
  {
   "cell_type": "code",
   "execution_count": null,
   "metadata": {
    "cell_id": "1c8d156663324559a231538463547af6",
    "deepnote_cell_type": "code",
    "deepnote_to_be_reexecuted": false,
    "execution_millis": 22,
    "execution_start": 1694898889572,
    "source_hash": null
   },
   "outputs": [
    {
     "name": "stdout",
     "output_type": "stream",
     "text": [
      "Overwriting upload_csv.py\n"
     ]
    }
   ],
   "source": [
    "%%writefile upload_csv.py\n",
    "import streamlit as st\n",
    "import pandas as pd\n",
    "\n",
    "st.title(\"Faça o upload de um arquivo csv\")\n",
    "\n",
    "# uploaded_file - armazena a função st onde terá o arquivo csv\n",
    "uploaded_file = st.file_uploader(\"Escolha um arquivo csv\", type=[\"csv\"])\n",
    "\n",
    "# se o arquivo for armazenado (na variável uploaded file)\n",
    "if uploaded_file:\n",
    "    data = pd.read_csv(uploaded_file) #o pandas abrirá o arquivo como dataframe em uploaded_file em 'data'\n",
    "    st.write(data.head(5)) # será exibido as 5 primeiras linhas da variável data "
   ]
  },
  {
   "cell_type": "code",
   "execution_count": null,
   "metadata": {
    "cell_id": "5113e616303a457fa76d1c07e237a0e6",
    "deepnote_cell_type": "code",
    "deepnote_to_be_reexecuted": false,
    "execution_millis": 866,
    "execution_start": 1694898889603,
    "source_hash": null
   },
   "outputs": [
    {
     "name": "stdout",
     "output_type": "stream",
     "text": [
      "/bin/bash: streamlit: command not found\n"
     ]
    }
   ],
   "source": [
    "!streamlit run upload_csv.py --server.port=8080"
   ]
  },
  {
   "cell_type": "markdown",
   "metadata": {
    "cell_id": "d2bef0a8d128445b8dce04ba1a841d3a",
    "deepnote_cell_type": "text-cell-p",
    "formattedRanges": []
   },
   "source": [
    "A barra lateral do Streamlit é uma área separada à esquerda da página principal onde você pode adicionar widgets interativos ou informações adicionais. É uma maneira de dar aos usuários mais controle sobre a visualização principal e fazer com que seu aplicativo seja mais útil e informativo."
   ]
  },
  {
   "cell_type": "markdown",
   "metadata": {
    "cell_id": "51753a6f89674a68a531b5da80258bb3",
    "deepnote_cell_type": "text-cell-p",
    "formattedRanges": []
   },
   "source": [
    "Exemplos de uso: um seletor de datas para permitir que os usuários escolham um intervalo de dados específico. Um link para documentação ou um resumo dos dados que estão sendo exibidos."
   ]
  },
  {
   "cell_type": "markdown",
   "metadata": {
    "cell_id": "94f2636da3164b32a0f0f7810767fa48",
    "deepnote_cell_type": "text-cell-p",
    "formattedRanges": [
     {
      "fromCodePoint": 0,
      "marks": {
       "bold": true
      },
      "toCodePoint": 156,
      "type": "marks"
     }
    ]
   },
   "source": [
    "**Agora, criaremos um aplicativo Streamlit de duas páginas: uma página inicial com um botão que leva à segunda página, onde é exibido um gráfico de dispersão simples.**"
   ]
  },
  {
   "cell_type": "code",
   "execution_count": null,
   "metadata": {
    "cell_id": "6f24e58e891c429fb9537ccc054a398d",
    "deepnote_cell_type": "code",
    "deepnote_to_be_reexecuted": false,
    "execution_millis": 152,
    "execution_start": 1694899148839,
    "source_hash": null
   },
   "outputs": [
    {
     "name": "stdout",
     "output_type": "stream",
     "text": [
      "Overwriting duas_paginas.py\n"
     ]
    }
   ],
   "source": [
    "%%writefile duas_paginas.py\n",
    "import streamlit as st\n",
    "import pandas as pd\n",
    "import numpy as np\n",
    "import plotly.express as px\n",
    "\n",
    "# Barra lateral para seleção da página\n",
    "page = st.sidebar.selectbox(\"Escolha uma página:\", [\"Home\", \"Gráfico de Dispersão\"])\n",
    "\n",
    "# Página Inicial\n",
    "if page == \"Home\":\n",
    "    st.title(\"Página Inicial\")\n",
    "    st.write(\"Bem-vindo à página inicial!\")\n",
    "    if st.button(\"Ir para a página do gráfico\"):\n",
    "        # Quando o botão for clicado, vamos diretamente para a página do gráfico\n",
    "        st.title(\"Página do Gráfico de Dispersão\")\n",
    "    \n",
    "        # Criando dados aleatórios para o gráfico\n",
    "        df = pd.DataFrame({\n",
    "            'x': np.random.randn(100),\n",
    "            'y': np.random.randn(100)\n",
    "        })\n",
    "    \n",
    "        fig = px.scatter(df, x='x', y='y', title='Gráfico de Dispersão Simples')\n",
    "        st.plotly_chart(fig)\n",
    "\n",
    "# Página do Gráfico de Dispersão\n",
    "elif page == \"Gráfico de Dispersão\":\n",
    "    st.title(\"Página do Gráfico de Dispersão\")\n",
    "    \n",
    "    # Criando dados aleatórios para o gráfico\n",
    "    df = pd.DataFrame({\n",
    "        'x': np.random.randn(100),\n",
    "        'y': np.random.randn(100)\n",
    "    })\n",
    "    \n",
    "    fig = px.scatter(df, x='x', y='y', title='Gráfico de Dispersão Simples')\n",
    "    st.plotly_chart(fig)\n"
   ]
  },
  {
   "cell_type": "code",
   "execution_count": null,
   "metadata": {
    "cell_id": "3e6abae9cc534aa0a82316d46657a7cc",
    "deepnote_cell_type": "code",
    "deepnote_to_be_reexecuted": false,
    "execution_millis": 92074,
    "execution_start": 1694899155583,
    "source_hash": null
   },
   "outputs": [
    {
     "name": "stdout",
     "output_type": "stream",
     "text": [
      "\n",
      "Collecting usage statistics. To deactivate, set browser.gatherUsageStats to False.\n",
      "\u001b[0m\n",
      "\u001b[0m\n",
      "\u001b[34m\u001b[1m  You can now view your Streamlit app in your browser.\u001b[0m\n",
      "\u001b[0m\n",
      "\u001b[34m  Network URL: \u001b[0m\u001b[1mhttp://172.3.44.249:8080\u001b[0m\n",
      "\u001b[34m  External URL: \u001b[0m\u001b[1mhttp://18.204.230.125:8080\u001b[0m\n",
      "\u001b[0m\n",
      "^C\n",
      "\u001b[34m  Stopping...\u001b[0m\n"
     ]
    }
   ],
   "source": [
    "!streamlit run duas_paginas.py --server.port=8080"
   ]
  },
  {
   "cell_type": "markdown",
   "metadata": {
    "cell_id": "1fd562789cd8451bae633db41d65ec64",
    "deepnote_cell_type": "text-cell-p",
    "formattedRanges": [
     {
      "fromCodePoint": 0,
      "marks": {
       "bold": true
      },
      "toCodePoint": 116,
      "type": "marks"
     }
    ]
   },
   "source": [
    "**Agora, um aplicativo Streamlit que use o layout de coluna para exibir uma imagem à esquerda e um texto à direita. **"
   ]
  },
  {
   "cell_type": "code",
   "execution_count": null,
   "metadata": {
    "cell_id": "6120b40de67646a380fbcc685b26c738",
    "deepnote_cell_type": "code",
    "deepnote_to_be_reexecuted": false,
    "execution_millis": 14,
    "execution_start": 1694900111316,
    "source_hash": null
   },
   "outputs": [
    {
     "name": "stdout",
     "output_type": "stream",
     "text": [
      "Overwriting image2.py\n"
     ]
    }
   ],
   "source": [
    "%%writefile image2.py\n",
    "import streamlit as st\n",
    "\n",
    "imagem_url = \"https://res.cloudinary.com/practicaldev/image/fetch/s--AuzN-qpw--/c_imagga_scale,f_auto,fl_progressive,h_420,q_auto,w_1000/https://thepracticaldev.s3.amazonaws.com/i/saia38h9cnyql3ggyd06.jpg\"\n",
    "\n",
    "#Definindo o layout das colunas\n",
    "col1, col2 = st.columns(2)\n",
    "\n",
    "#imagem da esquerda\n",
    "\n",
    "with col1:\n",
    "    st.image(imagem_url, caption=\"Ciência de Dados\", use_column_width=True)\n",
    "\n",
    "#Coluna da direita: Texto\n",
    "\n",
    "with col2:\n",
    "    st.write(\"\"\"\n",
    "    # Olá, bem-vindo!\n",
    "    À esquerda temos uma imagem da web sobre o nosso curso: Ciência de Dados!\n",
    "    \"\"\"\n",
    "    )"
   ]
  },
  {
   "cell_type": "code",
   "execution_count": null,
   "metadata": {
    "cell_id": "df6617ce5ad1456093d31a86615774b3",
    "deepnote_cell_type": "code",
    "deepnote_to_be_reexecuted": false,
    "execution_millis": 792187,
    "execution_start": 1694900116980,
    "source_hash": null
   },
   "outputs": [
    {
     "name": "stdout",
     "output_type": "stream",
     "text": [
      "\n",
      "Collecting usage statistics. To deactivate, set browser.gatherUsageStats to False.\n",
      "\u001b[0m\n",
      "\u001b[0m\n",
      "\u001b[34m\u001b[1m  You can now view your Streamlit app in your browser.\u001b[0m\n",
      "\u001b[0m\n",
      "\u001b[34m  Network URL: \u001b[0m\u001b[1mhttp://172.3.44.249:8080\u001b[0m\n",
      "\u001b[34m  External URL: \u001b[0m\u001b[1mhttp://18.204.230.125:8080\u001b[0m\n",
      "\u001b[0m\n",
      "^C\n",
      "\u001b[34m  Stopping...\u001b[0m\n"
     ]
    }
   ],
   "source": [
    "!streamlit run image2.py --server.port=8080\n"
   ]
  },
  {
   "cell_type": "markdown",
   "metadata": {
    "cell_id": "28289c32f36246a69ba31571629eb220",
    "deepnote_cell_type": "text-cell-p",
    "formattedRanges": []
   },
   "source": [
    "Para criar um menu de navegação para alternar entre várias páginas em um aplicativo Streamlit, usa-se a função st.sidebar.selectbox(). Esta função permite que se crie um menu suspenso com uma lista de opções. Quando um usuário seleciona uma opção, você pode usar o valor da seleção para carregar a página correspondente."
   ]
  },
  {
   "cell_type": "markdown",
   "metadata": {
    "cell_id": "a19d2bf10d8442e6be8413cbce65412b",
    "deepnote_cell_type": "text-cell-p",
    "formattedRanges": [
     {
      "fromCodePoint": 0,
      "marks": {
       "bold": true
      },
      "toCodePoint": 130,
      "type": "marks"
     }
    ]
   },
   "source": [
    "**Desenvolveremos um aplicativo Streamlit com um layout de coluna que inclua um gráfico de linhas e um gráfico de barras lado a lado.**"
   ]
  },
  {
   "cell_type": "code",
   "execution_count": null,
   "metadata": {
    "cell_id": "04b990e2211f43a8830e1cc424f873af",
    "deepnote_cell_type": "code",
    "deepnote_to_be_reexecuted": false,
    "execution_millis": 18,
    "execution_start": 1694902080046,
    "source_hash": null
   },
   "outputs": [
    {
     "name": "stdout",
     "output_type": "stream",
     "text": [
      "Overwriting layout_col.py\n"
     ]
    }
   ],
   "source": [
    "%%writefile layout_col.py\n",
    "import streamlit as st\n",
    "import pandas as pd\n",
    "import numpy as np\n",
    "\n",
    "#Criando dados para os gráficos\n",
    "df_lines = pd.DataFrame({\n",
    "    \"x\": np.arange(0, 10, 0.1),\n",
    "    \"y\": np.sin(np.arange(0, 10, 0.1))\n",
    "})\n",
    "\n",
    "df_bars = pd.DataFrame({\n",
    "    \"category\": [\"A\", \"B\", \"C\", \"D\", \"E\"],\n",
    "    \"values\": [10, 23, 15, 7, 12]\n",
    "})\n",
    "\n",
    "#Definindo o layout das colunas\n",
    "col1, col2 = st.columns(2)\n",
    "\n",
    "#Gráfico de linhas da primeira coluna\n",
    "with col1:\n",
    "    st.line_chart(df_lines.y, use_container_width=True)\n",
    "\n",
    "#Gráfico de barras da segunda coluna\n",
    "with col2:\n",
    "    st.bar_chart(df_bars.set_index(\"category\"), use_container_width=True)\n",
    "#No código acima set.index(\"category\") é utilizado para plotar category no eixo x do gráfico\n"
   ]
  },
  {
   "cell_type": "code",
   "execution_count": null,
   "metadata": {
    "cell_id": "061c427312354c0993147e009e0ee1ea",
    "deepnote_cell_type": "code",
    "deepnote_to_be_reexecuted": false,
    "execution_millis": 16597,
    "execution_start": 1694902082039,
    "source_hash": null
   },
   "outputs": [
    {
     "name": "stdout",
     "output_type": "stream",
     "text": [
      "\n",
      "Collecting usage statistics. To deactivate, set browser.gatherUsageStats to False.\n",
      "\u001b[0m\n",
      "\u001b[0m\n",
      "\u001b[34m\u001b[1m  You can now view your Streamlit app in your browser.\u001b[0m\n",
      "\u001b[0m\n",
      "\u001b[34m  Network URL: \u001b[0m\u001b[1mhttp://172.3.44.249:8080\u001b[0m\n",
      "\u001b[34m  External URL: \u001b[0m\u001b[1mhttp://18.204.230.125:8080\u001b[0m\n",
      "\u001b[0m\n",
      "/shared-libs/python3.9/py/lib/python3.9/site-packages/pyarrow/pandas_compat.py:373: FutureWarning: is_sparse is deprecated and will be removed in a future version. Check `isinstance(dtype, pd.SparseDtype)` instead.\n",
      "  if _pandas_api.is_sparse(col):\n",
      "/shared-libs/python3.9/py/lib/python3.9/site-packages/pyarrow/pandas_compat.py:373: FutureWarning: is_sparse is deprecated and will be removed in a future version. Check `isinstance(dtype, pd.SparseDtype)` instead.\n",
      "  if _pandas_api.is_sparse(col):\n",
      "/shared-libs/python3.9/py/lib/python3.9/site-packages/pyarrow/pandas_compat.py:373: FutureWarning: is_sparse is deprecated and will be removed in a future version. Check `isinstance(dtype, pd.SparseDtype)` instead.\n",
      "  if _pandas_api.is_sparse(col):\n",
      "/shared-libs/python3.9/py/lib/python3.9/site-packages/pyarrow/pandas_compat.py:373: FutureWarning: is_sparse is deprecated and will be removed in a future version. Check `isinstance(dtype, pd.SparseDtype)` instead.\n",
      "  if _pandas_api.is_sparse(col):\n",
      "^C\n",
      "\u001b[34m  Stopping...\u001b[0m\n"
     ]
    }
   ],
   "source": [
    "!streamlit run layout_col.py --server.port=8080\n"
   ]
  },
  {
   "cell_type": "markdown",
   "metadata": {
    "cell_id": "a3ea935b045d4b6e992d916b9e8086ef",
    "deepnote_cell_type": "text-cell-p",
    "formattedRanges": []
   },
   "source": [
    "\n",
    "O fluxo de aplicativo em um aplicativo Streamlit é a sequência de eventos que ocorrem quando um usuário interage com o aplicativo, e é controlado pelo código do aplicativo, que pode responder às interações do usuário usando widgets interativos."
   ]
  },
  {
   "cell_type": "markdown",
   "metadata": {
    "cell_id": "bd5a8704694f42af9982b15abaf748f8",
    "deepnote_cell_type": "text-cell-p",
    "formattedRanges": []
   },
   "source": [
    "Um exemplo de como controlar o fluxo usando widgets interativos é usando um menu de navegação. Um menu de navegação permite que os usuários selecionem a página que desejam visualizar. Assim, Você pode-se usar o valor selecionado no menu de navegação para controlar qual código é executado."
   ]
  },
  {
   "cell_type": "markdown",
   "metadata": {
    "cell_id": "95bab68293974955a52678cd92236b05",
    "deepnote_cell_type": "text-cell-p",
    "formattedRanges": [
     {
      "fromCodePoint": 0,
      "marks": {
       "bold": true
      },
      "toCodePoint": 126,
      "type": "marks"
     }
    ]
   },
   "source": [
    "**Agora, criaremos um aplicativo Streamlit com um botão de alternância que alterne entre a exibição de uma tabela e um gráfico de barras.**"
   ]
  },
  {
   "cell_type": "code",
   "execution_count": null,
   "metadata": {
    "cell_id": "97ce966dfa94498aa3e58fc7b0146aee",
    "deepnote_cell_type": "code",
    "deepnote_to_be_reexecuted": false,
    "execution_millis": 14,
    "execution_start": 1694904744463,
    "source_hash": null
   },
   "outputs": [
    {
     "name": "stdout",
     "output_type": "stream",
     "text": [
      "Overwriting botao.py\n"
     ]
    }
   ],
   "source": [
    "%%writefile botao.py\n",
    "import streamlit as st\n",
    "import pandas as pd\n",
    "import numpy as np\n",
    "\n",
    "#Criando um DataFrame a partir de um dicionário\n",
    "data = {\n",
    "        \"Category\":[\"A\",\"B\",\"C\",\"D\",\"E\"],\n",
    "        \"Values\": [19, 7, 8, 44, 12]\n",
    "}\n",
    "\n",
    "#Atribuindo ao objeto df o dicionário (data) como DataFrame\n",
    "df=pd.DataFrame(data)\n",
    "\n",
    "#Adicionando um botão de alternância com a função checkbox do streamlit\n",
    "show_table = st.checkbox(\"Exibir Tabela\", value=True) #value=True marcado como \"selecionado\" quando eberto\n",
    "\n",
    "#se show_table estiver com value=True (marcado), o df será exibido\n",
    "if show_table:\n",
    "    st.write(df) #exibe o DF como uma tabela\n",
    "else: # e se value=False (desmarcado) o bar_chart será plotado\n",
    "    st.bar_chart(df.set_index(\"Category\")) #Utiliza a variável Category como eixo x no gráfico\n",
    "\n"
   ]
  },
  {
   "cell_type": "code",
   "execution_count": null,
   "metadata": {
    "cell_id": "549545585551405690ec18fae171ea9c",
    "deepnote_cell_type": "code",
    "deepnote_to_be_reexecuted": false,
    "execution_millis": 26061,
    "execution_start": 1694904751388,
    "source_hash": null
   },
   "outputs": [
    {
     "name": "stdout",
     "output_type": "stream",
     "text": [
      "\n",
      "Collecting usage statistics. To deactivate, set browser.gatherUsageStats to False.\n",
      "\u001b[0m\n",
      "\u001b[0m\n",
      "\u001b[34m\u001b[1m  You can now view your Streamlit app in your browser.\u001b[0m\n",
      "\u001b[0m\n",
      "\u001b[34m  Network URL: \u001b[0m\u001b[1mhttp://172.3.37.16:8080\u001b[0m\n",
      "\u001b[34m  External URL: \u001b[0m\u001b[1mhttp://54.162.69.67:8080\u001b[0m\n",
      "\u001b[0m\n",
      "/shared-libs/python3.9/py/lib/python3.9/site-packages/pyarrow/pandas_compat.py:373: FutureWarning: is_sparse is deprecated and will be removed in a future version. Check `isinstance(dtype, pd.SparseDtype)` instead.\n",
      "  if _pandas_api.is_sparse(col):\n",
      "/shared-libs/python3.9/py/lib/python3.9/site-packages/pyarrow/pandas_compat.py:373: FutureWarning: is_sparse is deprecated and will be removed in a future version. Check `isinstance(dtype, pd.SparseDtype)` instead.\n",
      "  if _pandas_api.is_sparse(col):\n",
      "/shared-libs/python3.9/py/lib/python3.9/site-packages/pyarrow/pandas_compat.py:373: FutureWarning: is_sparse is deprecated and will be removed in a future version. Check `isinstance(dtype, pd.SparseDtype)` instead.\n",
      "  if _pandas_api.is_sparse(col):\n",
      "^C\n",
      "\u001b[34m  Stopping...\u001b[0m\n"
     ]
    }
   ],
   "source": [
    "!streamlit run botao.py --server.port=8080"
   ]
  },
  {
   "cell_type": "markdown",
   "metadata": {
    "cell_id": "18dd3699749b4d8786ebc63feaf68182",
    "deepnote_cell_type": "text-cell-p",
    "formattedRanges": [
     {
      "fromCodePoint": 0,
      "marks": {
       "bold": true
      },
      "toCodePoint": 169,
      "type": "marks"
     }
    ]
   },
   "source": [
    "**Agora, desenvolveremos um dashboard interativo que permita ao usuário selecionar um intervalo de datas e, em seguida, exiba um gráfico de linha com base nas datas selecionadas.**"
   ]
  },
  {
   "cell_type": "code",
   "execution_count": null,
   "metadata": {
    "cell_id": "7b3135296ef84835b553b118de097a27",
    "deepnote_cell_type": "code",
    "deepnote_to_be_reexecuted": false,
    "execution_millis": 15,
    "execution_start": 1694906028364,
    "source_hash": null
   },
   "outputs": [
    {
     "name": "stdout",
     "output_type": "stream",
     "text": [
      "Overwriting dashboard.py\n"
     ]
    }
   ],
   "source": [
    "%%writefile dashboard.py\n",
    "import streamlit as st\n",
    "import pandas as pd\n",
    "import numpy as np\n",
    "import datetime #função Python para datas e horas\n",
    "\n",
    "#Selecionando o intervalo de datas\n",
    "start_date = st.date_input(\"Data de início\", datetime.date(2023, 1, 1))\n",
    "end_date = st.date_input(\"Data final\", datetime.date(2023, 12, 31))\n",
    "\n",
    "#Verifificando se a data de inicio é ou não maior que a data final\n",
    "if start_date > end_date:\n",
    "    st.warning(\"A data de início é posteior à data final.\")\n",
    "else: #gerando valores aleatórios para o intervalo de datas selecionado\n",
    "#O exemplo do gráfico utilizando dados aleatórios serve apenas como simulação\n",
    "#Em um ambiente de produção, dados reais (de compras em uma série temporal por ex) seriam usados\n",
    "\n",
    "    dates = pd.date_range(start_date, end_date)\n",
    "    values = np.random.randn(len(dates)).cumsum()\n",
    "    #Exibindo gráffico de linhas\n",
    "    st.line_chart(pd.Series(values, index=dates))\n"
   ]
  },
  {
   "cell_type": "code",
   "execution_count": null,
   "metadata": {
    "cell_id": "723b8f881e92447aa9942a57f8d024be",
    "deepnote_cell_type": "code",
    "deepnote_to_be_reexecuted": false,
    "execution_millis": 3011779,
    "execution_start": 1694906059567,
    "source_hash": null
   },
   "outputs": [
    {
     "name": "stdout",
     "output_type": "stream",
     "text": [
      "\n",
      "Collecting usage statistics. To deactivate, set browser.gatherUsageStats to False.\n",
      "\u001b[0m\n",
      "\u001b[0m\n",
      "\u001b[34m\u001b[1m  You can now view your Streamlit app in your browser.\u001b[0m\n",
      "\u001b[0m\n",
      "\u001b[34m  Network URL: \u001b[0m\u001b[1mhttp://172.3.37.16:8080\u001b[0m\n",
      "\u001b[34m  External URL: \u001b[0m\u001b[1mhttp://54.162.69.67:8080\u001b[0m\n",
      "\u001b[0m\n",
      "/shared-libs/python3.9/py/lib/python3.9/site-packages/pyarrow/pandas_compat.py:373: FutureWarning: is_sparse is deprecated and will be removed in a future version. Check `isinstance(dtype, pd.SparseDtype)` instead.\n",
      "  if _pandas_api.is_sparse(col):\n",
      "/shared-libs/python3.9/py/lib/python3.9/site-packages/pyarrow/pandas_compat.py:373: FutureWarning: is_sparse is deprecated and will be removed in a future version. Check `isinstance(dtype, pd.SparseDtype)` instead.\n",
      "  if _pandas_api.is_sparse(col):\n",
      "/shared-libs/python3.9/py/lib/python3.9/site-packages/pyarrow/pandas_compat.py:373: FutureWarning: is_sparse is deprecated and will be removed in a future version. Check `isinstance(dtype, pd.SparseDtype)` instead.\n",
      "  if _pandas_api.is_sparse(col):\n",
      "/shared-libs/python3.9/py/lib/python3.9/site-packages/pyarrow/pandas_compat.py:373: FutureWarning: is_sparse is deprecated and will be removed in a future version. Check `isinstance(dtype, pd.SparseDtype)` instead.\n",
      "  if _pandas_api.is_sparse(col):\n",
      "^C\n",
      "\u001b[34m  Stopping...\u001b[0m\n"
     ]
    }
   ],
   "source": [
    "!streamlit run dashboard.py --server.port=8080"
   ]
  },
  {
   "cell_type": "markdown",
   "metadata": {
    "cell_id": "3045666b85074456bec72d8c04f1f2fd",
    "deepnote_cell_type": "text-cell-p",
    "formattedRanges": []
   },
   "source": [
    "\n",
    "Para criar um widget de seleção múltipla no Streamlit, usa-se a função st.multiselect(). Esta função permite que se crie uma caixa de seleção com várias opções. Os usuários podem selecionar várias opções na caixa de seleção."
   ]
  },
  {
   "cell_type": "markdown",
   "metadata": {
    "cell_id": "ecb5c0af5761486cb7691973aa01c2ff",
    "deepnote_cell_type": "text-cell-p",
    "formattedRanges": []
   },
   "source": [
    "Exemplo de uso: Um aplicativo de compras pode usar um widget de seleção múltipla para permitir que os usuários selecionem os produtos que desejam comprar. Por exemplo, um aplicativo de compras de alimentos poderia permitir que os usuários selecionassem os ingredientes que desejam usar para preparar uma receita."
   ]
  },
  {
   "cell_type": "markdown",
   "metadata": {
    "cell_id": "fe1aeb281f6d4d8ba351e8adfb9f1f83",
    "deepnote_cell_type": "text-cell-p",
    "formattedRanges": []
   },
   "source": []
  },
  {
   "cell_type": "markdown",
   "metadata": {
    "cell_id": "a1892461263643c78fe9ae11018dd735",
    "deepnote_cell_type": "text-cell-p",
    "formattedRanges": [
     {
      "fromCodePoint": 0,
      "marks": {
       "bold": true
      },
      "toCodePoint": 129,
      "type": "marks"
     }
    ]
   },
   "source": [
    "**Criaremos um aplicativo Streamlit que permita aos usuários fazerem upload de imagens e exibir as imagens carregadas em uma grade.**"
   ]
  },
  {
   "cell_type": "code",
   "execution_count": null,
   "metadata": {
    "cell_id": "ed32033ef1134c698786afd7dc32e9ce",
    "deepnote_cell_type": "code",
    "deepnote_to_be_reexecuted": false,
    "execution_millis": 15,
    "execution_start": 1694911136104,
    "source_hash": null
   },
   "outputs": [
    {
     "name": "stdout",
     "output_type": "stream",
     "text": [
      "Overwriting upload_img.py\n"
     ]
    }
   ],
   "source": [
    "%%writefile upload_img.py\n",
    "import streamlit as st\n",
    "\n",
    "#Título do app\n",
    "st.title(\"Upload de imagens\")\n",
    "\n",
    "#criação do widget para o upload de imagens\n",
    "uploaded_files = st.file_uploader(\"Faça o upload de uma imagem. Atenção! Os formatos permitidos são: png, jpg e jpeg\",\n",
    "    type=[\"png\", \"jpg\", \"jpeg\"], accept_multiple_files=True)\n",
    "\n",
    "#se houver imagens carregadas = exibir\n",
    "if uploaded_files: #exibir imagem com toda a largura da coluna disponível\n",
    "    st.image(image, use_column_width=True)"
   ]
  },
  {
   "cell_type": "code",
   "execution_count": null,
   "metadata": {
    "cell_id": "f60904e01080400ea3d625b290e78490",
    "deepnote_cell_type": "code",
    "deepnote_to_be_reexecuted": false,
    "execution_millis": 47954,
    "execution_start": 1694911143598,
    "source_hash": null
   },
   "outputs": [
    {
     "name": "stdout",
     "output_type": "stream",
     "text": [
      "\n",
      "Collecting usage statistics. To deactivate, set browser.gatherUsageStats to False.\n",
      "\u001b[0m\n",
      "\u001b[0m\n",
      "\u001b[34m\u001b[1m  You can now view your Streamlit app in your browser.\u001b[0m\n",
      "\u001b[0m\n",
      "\u001b[34m  Network URL: \u001b[0m\u001b[1mhttp://172.3.37.16:8080\u001b[0m\n",
      "\u001b[34m  External URL: \u001b[0m\u001b[1mhttp://54.162.69.67:8080\u001b[0m\n",
      "\u001b[0m\n",
      "^C\n",
      "\u001b[34m  Stopping...\u001b[0m\n"
     ]
    }
   ],
   "source": [
    "!streamlit run upload_img.py --server.port=8080"
   ]
  },
  {
   "cell_type": "code",
   "execution_count": null,
   "metadata": {
    "cell_id": "ceebc35745a04553adde2d3ca847d9ab",
    "deepnote_cell_type": "code",
    "deepnote_to_be_reexecuted": false,
    "execution_millis": 20,
    "execution_start": 1694911861111,
    "source_hash": null
   },
   "outputs": [
    {
     "name": "stdout",
     "output_type": "stream",
     "text": [
      "Writing sp_locations.py\n"
     ]
    }
   ],
   "source": [
    "%%writefile sp_locations.py\n",
    "import streamlit as st\n",
    "import pandas as pd\n",
    "\n",
    "# Título do aplicativo\n",
    "st.title(\"Dashboard com Mapa de São Paulo\")\n",
    "\n",
    "# Dados de localidades de São Paulo/Brasil\n",
    "locations = {\n",
    "    \"lat\": [-23.5505, -23.5865, -23.5953],  # Latitudes de três locais em São Paulo\n",
    "    \"lon\": [-46.6333, -46.6523, -46.6890],  # Longitudes de três locais em São Paulo\n",
    "    \"info\": [\"Praça da Sé\", \"Mercado Municipal\", \"Parque Ibirapuera\"]  # Nomes dos locais\n",
    "}\n",
    "\n",
    "#transformando o dicionário de locais em um DF com o Pandas\n",
    "# Adicionando o mapa ao Streamlit\n",
    "st.map(pd.DataFrame(locations))\n"
   ]
  },
  {
   "cell_type": "code",
   "execution_count": null,
   "metadata": {
    "cell_id": "6cad2634019445e58974ba030734d28c",
    "deepnote_cell_type": "code",
    "deepnote_to_be_reexecuted": false,
    "execution_millis": 59315,
    "execution_start": 1694911900889,
    "source_hash": null
   },
   "outputs": [
    {
     "name": "stdout",
     "output_type": "stream",
     "text": [
      "\n",
      "Collecting usage statistics. To deactivate, set browser.gatherUsageStats to False.\n",
      "\u001b[0m\n",
      "\u001b[0m\n",
      "\u001b[34m\u001b[1m  You can now view your Streamlit app in your browser.\u001b[0m\n",
      "\u001b[0m\n",
      "\u001b[34m  Network URL: \u001b[0m\u001b[1mhttp://172.3.37.16:8080\u001b[0m\n",
      "\u001b[34m  External URL: \u001b[0m\u001b[1mhttp://54.162.69.67:8080\u001b[0m\n",
      "\u001b[0m\n",
      "^C\n",
      "\u001b[34m  Stopping...\u001b[0m\n"
     ]
    }
   ],
   "source": [
    "!streamlit run sp_locations.py --server.port=8080"
   ]
  },
  {
   "cell_type": "markdown",
   "metadata": {
    "created_in_deepnote_cell": true,
    "deepnote_cell_type": "markdown"
   },
   "source": [
    "<a style='text-decoration:none;line-height:16px;display:flex;color:#5B5B62;padding:10px;justify-content:end;' href='https://deepnote.com?utm_source=created-in-deepnote-cell&projectId=b10b060b-190a-4c24-9501-4e69f89da7bf' target=\"_blank\">\n",
    "<img alt='Created in deepnote.com' style='display:inline;max-height:16px;margin:0px;margin-right:7.5px;' src='data:image/svg+xml;base64,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' > </img>\n",
    "Created in <span style='font-weight:600;margin-left:4px;'>Deepnote</span></a>"
   ]
  }
 ],
 "metadata": {
  "deepnote_execution_queue": [],
  "deepnote_notebook_id": "5d8b84bc5fea4135b54fdcd382f6ff1a",
  "kernelspec": {
   "display_name": "Python 3 (ipykernel)",
   "language": "python",
   "name": "python3"
  },
  "language_info": {
   "codemirror_mode": {
    "name": "ipython",
    "version": 3
   },
   "file_extension": ".py",
   "mimetype": "text/x-python",
   "name": "python",
   "nbconvert_exporter": "python",
   "pygments_lexer": "ipython3",
   "version": "3.10.9"
  }
 },
 "nbformat": 4,
 "nbformat_minor": 1
}
